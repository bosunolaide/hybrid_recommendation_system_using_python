{
  "nbformat": 4,
  "nbformat_minor": 0,
  "metadata": {
    "colab": {
      "provenance": [],
      "authorship_tag": "ABX9TyNYC/McuXLUXDOxSnoYsOHm",
      "include_colab_link": true
    },
    "kernelspec": {
      "name": "python3",
      "display_name": "Python 3"
    },
    "language_info": {
      "name": "python"
    }
  },
  "cells": [
    {
      "cell_type": "markdown",
      "metadata": {
        "id": "view-in-github",
        "colab_type": "text"
      },
      "source": [
        "<a href=\"https://colab.research.google.com/github/bosunolaide/hybrid_recommendation_system_using_python/blob/main/hybrid_recommendation_system_using_python.ipynb\" target=\"_parent\"><img src=\"https://colab.research.google.com/assets/colab-badge.svg\" alt=\"Open In Colab\"/></a>"
      ]
    },
    {
      "cell_type": "markdown",
      "source": [
        "# Hybrid Recommendation System using Python"
      ],
      "metadata": {
        "id": "Foe_YLy9FEaz"
      }
    },
    {
      "cell_type": "markdown",
      "source": [
        "## A hybrid recommendation system is a recommendation technique that offers a complete and balanced approach by mixing two or more recommendation techniques. It aims to provide more accurate, diverse and personalized recommendations to users leveraging the strengths of different techniques and providing valuable user experience. It uses the strengths of different approaches, such as collaborative filtering and content-based filtering, to overcome their limitations and improve the recommendation process."
      ],
      "metadata": {
        "id": "-kQlgHVzFD0A"
      }
    },
    {
      "cell_type": "code",
      "source": [
        "# unzip dataset file\n",
        "from zipfile import ZipFile\n",
        "import os\n",
        "\n",
        "zip_file_path = 'fashion_products.zip'\n",
        "extraction_directory = 'fashion_products/'\n",
        "\n",
        "if not os.path.exists(extraction_directory):\n",
        "    os.makedirs(extraction_directory)\n",
        "\n",
        "with ZipFile(zip_file_path, 'r') as zip_ref:\n",
        "    zip_ref.extractall(extraction_directory)\n",
        "\n",
        "extracted_files = os.listdir(extraction_directory)\n",
        "print(extracted_files[:10])"
      ],
      "metadata": {
        "colab": {
          "base_uri": "https://localhost:8080/"
        },
        "id": "yEJb69paG0Zo",
        "outputId": "51637ecf-d335-4f3c-b7da-c0bd07fffe2a"
      },
      "execution_count": 1,
      "outputs": [
        {
          "output_type": "stream",
          "name": "stdout",
          "text": [
            "['fashion_products.csv', '__MACOSX']\n"
          ]
        }
      ]
    },
    {
      "cell_type": "code",
      "execution_count": 3,
      "metadata": {
        "colab": {
          "base_uri": "https://localhost:8080/"
        },
        "id": "ZR1fZk0qB68S",
        "outputId": "2dd78c70-bb52-4ba1-e2a8-41e29cb559ce"
      },
      "outputs": [
        {
          "output_type": "stream",
          "name": "stdout",
          "text": [
            "Collecting scikit-surprise\n",
            "  Downloading scikit_surprise-1.1.4.tar.gz (154 kB)\n",
            "\u001b[?25l     \u001b[90m━━━━━━━━━━━━━━━━━━━━━━━━━━━━━━━━━━━━━━━━\u001b[0m \u001b[32m0.0/154.4 kB\u001b[0m \u001b[31m?\u001b[0m eta \u001b[36m-:--:--\u001b[0m\r\u001b[2K     \u001b[90m━━━━━━━━━━━━━━━━━━━━━━━━━━━━━━━━━━━━━━━━\u001b[0m \u001b[32m154.4/154.4 kB\u001b[0m \u001b[31m8.0 MB/s\u001b[0m eta \u001b[36m0:00:00\u001b[0m\n",
            "\u001b[?25h  Installing build dependencies ... \u001b[?25l\u001b[?25hdone\n",
            "  Getting requirements to build wheel ... \u001b[?25l\u001b[?25hdone\n",
            "  Preparing metadata (pyproject.toml) ... \u001b[?25l\u001b[?25hdone\n",
            "Requirement already satisfied: joblib>=1.2.0 in /usr/local/lib/python3.11/dist-packages (from scikit-surprise) (1.4.2)\n",
            "Requirement already satisfied: numpy>=1.19.5 in /usr/local/lib/python3.11/dist-packages (from scikit-surprise) (1.26.4)\n",
            "Requirement already satisfied: scipy>=1.6.0 in /usr/local/lib/python3.11/dist-packages (from scikit-surprise) (1.13.1)\n",
            "Building wheels for collected packages: scikit-surprise\n",
            "  Building wheel for scikit-surprise (pyproject.toml) ... \u001b[?25l\u001b[?25hdone\n",
            "  Created wheel for scikit-surprise: filename=scikit_surprise-1.1.4-cp311-cp311-linux_x86_64.whl size=2505172 sha256=e31264b7d3ede9c781fe6764aae021effde35e76fd8d27934c847151f44dd796\n",
            "  Stored in directory: /root/.cache/pip/wheels/2a/8f/6e/7e2899163e2d85d8266daab4aa1cdabec7a6c56f83c015b5af\n",
            "Successfully built scikit-surprise\n",
            "Installing collected packages: scikit-surprise\n",
            "Successfully installed scikit-surprise-1.1.4\n",
            "   User ID  Product ID Product Name   Brand         Category  Price    Rating  \\\n",
            "0       19           1        Dress  Adidas    Men's Fashion     40  1.043159   \n",
            "1       97           2        Shoes     H&M  Women's Fashion     82  4.026416   \n",
            "2       25           3        Dress  Adidas  Women's Fashion     44  3.337938   \n",
            "3       57           4        Shoes    Zara    Men's Fashion     23  1.049523   \n",
            "4       79           5      T-shirt  Adidas    Men's Fashion     79  4.302773   \n",
            "\n",
            "    Color Size  \n",
            "0   Black   XL  \n",
            "1   Black    L  \n",
            "2  Yellow   XL  \n",
            "3   White    S  \n",
            "4   Black    M  \n"
          ]
        }
      ],
      "source": [
        "# import libraries and read dataset\n",
        "\n",
        "!pip install scikit-surprise\n",
        "from surprise import Dataset, Reader, SVD\n",
        "from sklearn.feature_extraction.text import TfidfVectorizer\n",
        "from sklearn.metrics.pairwise import linear_kernel\n",
        "import pandas as pd\n",
        "data = pd.read_csv(\"fashion_products/fashion_products.csv\")\n",
        "print(data.head())"
      ]
    },
    {
      "cell_type": "markdown",
      "source": [
        "## Building the Recommendation System"
      ],
      "metadata": {
        "id": "JcyClynuM4da"
      }
    },
    {
      "cell_type": "markdown",
      "source": [
        "### Content-Based Filtering"
      ],
      "metadata": {
        "id": "11q09zIiMvK9"
      }
    },
    {
      "cell_type": "code",
      "source": [
        "content_df = data[['Product ID', 'Product Name', 'Brand',\n",
        "                   'Category', 'Color', 'Size']]\n",
        "content_df['Content'] = content_df.apply(lambda row: ' '.join(row.dropna().astype(str)), axis=1)\n",
        "\n",
        "# Use TF-IDF vectorizer to convert content into a matrix of TF-IDF features\n",
        "tfidf_vectorizer = TfidfVectorizer()\n",
        "content_matrix = tfidf_vectorizer.fit_transform(content_df['Content'])\n",
        "\n",
        "content_similarity = linear_kernel(content_matrix, content_matrix)\n",
        "\n",
        "reader = Reader(rating_scale=(1, 5))\n",
        "data = Dataset.load_from_df(data[['User ID',\n",
        "                                  'Product ID',\n",
        "                                  'Rating']], reader)\n",
        "\n",
        "def get_content_based_recommendations(product_id, top_n):\n",
        "    index = content_df[content_df['Product ID'] == product_id].index[0]\n",
        "    similarity_scores = content_similarity[index]\n",
        "    similar_indices = similarity_scores.argsort()[::-1][1:top_n + 1]\n",
        "    recommendations = content_df.loc[similar_indices, 'Product ID'].values\n",
        "    return recommendations"
      ],
      "metadata": {
        "colab": {
          "base_uri": "https://localhost:8080/"
        },
        "id": "MoC3HZDpMuR6",
        "outputId": "3f027932-8ee7-497b-e702-1082ae48c9cc"
      },
      "execution_count": 4,
      "outputs": [
        {
          "output_type": "stream",
          "name": "stderr",
          "text": [
            "<ipython-input-4-8b9183f797f5>:3: SettingWithCopyWarning: \n",
            "A value is trying to be set on a copy of a slice from a DataFrame.\n",
            "Try using .loc[row_indexer,col_indexer] = value instead\n",
            "\n",
            "See the caveats in the documentation: https://pandas.pydata.org/pandas-docs/stable/user_guide/indexing.html#returning-a-view-versus-a-copy\n",
            "  content_df['Content'] = content_df.apply(lambda row: ' '.join(row.dropna().astype(str)), axis=1)\n"
          ]
        }
      ]
    },
    {
      "cell_type": "markdown",
      "source": [
        "### Collaborative Filtering"
      ],
      "metadata": {
        "id": "sihV_gWENSy5"
      }
    },
    {
      "cell_type": "code",
      "source": [
        "algo = SVD()\n",
        "trainset = data.build_full_trainset()\n",
        "algo.fit(trainset)\n",
        "\n",
        "def get_collaborative_filtering_recommendations(user_id, top_n):\n",
        "    testset = trainset.build_anti_testset()\n",
        "    testset = filter(lambda x: x[0] == user_id, testset)\n",
        "    predictions = algo.test(testset)\n",
        "    predictions.sort(key=lambda x: x.est, reverse=True)\n",
        "    recommendations = [prediction.iid for prediction in predictions[:top_n]]\n",
        "    return recommendations"
      ],
      "metadata": {
        "id": "1zX3dhFMNUzA"
      },
      "execution_count": 5,
      "outputs": []
    },
    {
      "cell_type": "markdown",
      "source": [
        "### The Hybrid System"
      ],
      "metadata": {
        "id": "1kRe7bxUNmK-"
      }
    },
    {
      "cell_type": "code",
      "source": [
        "def get_hybrid_recommendations(user_id, product_id, top_n):\n",
        "    content_based_recommendations = get_content_based_recommendations(product_id, top_n)\n",
        "    collaborative_filtering_recommendations = get_collaborative_filtering_recommendations(user_id, top_n)\n",
        "    hybrid_recommendations = list(set(content_based_recommendations + collaborative_filtering_recommendations))\n",
        "    return hybrid_recommendations[:top_n]"
      ],
      "metadata": {
        "id": "tOEgMFAWNsoH"
      },
      "execution_count": 6,
      "outputs": []
    },
    {
      "cell_type": "markdown",
      "source": [
        "## Testing the System"
      ],
      "metadata": {
        "id": "si2BsjMBOAnk"
      }
    },
    {
      "cell_type": "code",
      "source": [
        "user_id = 6\n",
        "product_id = 11\n",
        "top_n = 10\n",
        "recommendations = get_hybrid_recommendations(user_id, product_id, top_n)\n",
        "\n",
        "print(f\"Hybrid Recommendations for User {user_id} based on Product {product_id}:\")\n",
        "for i, recommendation in enumerate(recommendations):\n",
        "    print(f\"{i + 1}. Product ID: {recommendation}\")\n",
        "    print(f\"{i + 1}. Product ID: {recommendation}\")"
      ],
      "metadata": {
        "colab": {
          "base_uri": "https://localhost:8080/"
        },
        "id": "B2mHejucOENV",
        "outputId": "b5a12180-60d3-413c-9ee7-b8415fa2515e"
      },
      "execution_count": 7,
      "outputs": [
        {
          "output_type": "stream",
          "name": "stdout",
          "text": [
            "Hybrid Recommendations for User 6 based on Product 11:\n",
            "1. Product ID: 1512\n",
            "1. Product ID: 1512\n",
            "2. Product ID: 650\n",
            "2. Product ID: 650\n",
            "3. Product ID: 1422\n",
            "3. Product ID: 1422\n",
            "4. Product ID: 1425\n",
            "4. Product ID: 1425\n",
            "5. Product ID: 1556\n",
            "5. Product ID: 1556\n",
            "6. Product ID: 885\n",
            "6. Product ID: 885\n",
            "7. Product ID: 697\n",
            "7. Product ID: 697\n",
            "8. Product ID: 1594\n",
            "8. Product ID: 1594\n",
            "9. Product ID: 507\n",
            "9. Product ID: 507\n",
            "10. Product ID: 319\n",
            "10. Product ID: 319\n"
          ]
        }
      ]
    }
  ]
}